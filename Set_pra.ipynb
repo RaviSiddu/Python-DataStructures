{
  "nbformat": 4,
  "nbformat_minor": 0,
  "metadata": {
    "colab": {
      "name": "Set_pra.ipynb",
      "version": "0.3.2",
      "provenance": [],
      "collapsed_sections": [],
      "include_colab_link": true
    },
    "kernelspec": {
      "name": "python3",
      "display_name": "Python 3"
    }
  },
  "cells": [
    {
      "cell_type": "markdown",
      "metadata": {
        "id": "view-in-github",
        "colab_type": "text"
      },
      "source": [
        "<a href=\"https://colab.research.google.com/github/RaviSiddu/Python-DataStructures/blob/master/Set_pra.ipynb\" target=\"_parent\"><img src=\"https://colab.research.google.com/assets/colab-badge.svg\" alt=\"Open In Colab\"/></a>"
      ]
    },
    {
      "cell_type": "markdown",
      "metadata": {
        "id": "RnDcgIpp8X_3",
        "colab_type": "text"
      },
      "source": [
        "# Set"
      ]
    },
    {
      "cell_type": "markdown",
      "metadata": {
        "id": "7fINr6ip8f-0",
        "colab_type": "text"
      },
      "source": [
        "set creation"
      ]
    },
    {
      "cell_type": "code",
      "metadata": {
        "id": "2H1kH8eK8isn",
        "colab_type": "code",
        "colab": {
          "base_uri": "https://localhost:8080/",
          "height": 34
        },
        "outputId": "83922c9b-746f-46a1-e61a-5853f9d58a43"
      },
      "source": [
        "s={1,2,3,4,4,5,5,6,6,6,7}\n",
        "aprint(s) #set doesnot allow duplicate elements"
      ],
      "execution_count": 2,
      "outputs": [
        {
          "output_type": "stream",
          "text": [
            "{1, 2, 3, 4, 5, 6, 7}\n"
          ],
          "name": "stdout"
        }
      ]
    },
    {
      "cell_type": "code",
      "metadata": {
        "id": "kqQoaDlp9Cxu",
        "colab_type": "code",
        "colab": {
          "base_uri": "https://localhost:8080/",
          "height": 34
        },
        "outputId": "b7a45f68-5e2a-4ad7-80ae-a2e0f73436fc"
      },
      "source": [
        "s=set([1,2,3,4,4]) #convert the list into the set\n",
        "print(s)"
      ],
      "execution_count": 3,
      "outputs": [
        {
          "output_type": "stream",
          "text": [
            "{1, 2, 3, 4}\n"
          ],
          "name": "stdout"
        }
      ]
    },
    {
      "cell_type": "markdown",
      "metadata": {
        "id": "Gyw4RjL39Won",
        "colab_type": "text"
      },
      "source": [
        "Addtion of elements into the set"
      ]
    },
    {
      "cell_type": "code",
      "metadata": {
        "id": "tBKxENxo9cXJ",
        "colab_type": "code",
        "colab": {
          "base_uri": "https://localhost:8080/",
          "height": 51
        },
        "outputId": "cb6dd6ca-3bc7-46a7-8cc6-b6c767e2d26c"
      },
      "source": [
        "s={1,2,3,4,4,5,5,6,6,6,7}\n",
        "s.add(10) #using add we can add a single element\n",
        "print(s)\n",
        "s2={1,2,3,4,4,5,5,6,6,6,7}\n",
        "s2.update([88,77,66]) # using the update we can add multiple elements\n",
        "print(s2)\n"
      ],
      "execution_count": 6,
      "outputs": [
        {
          "output_type": "stream",
          "text": [
            "{1, 2, 3, 4, 5, 6, 7, 10}\n",
            "{1, 2, 3, 4, 5, 6, 7, 66, 77, 88}\n"
          ],
          "name": "stdout"
        }
      ]
    },
    {
      "cell_type": "markdown",
      "metadata": {
        "id": "QYMauglo-QOF",
        "colab_type": "text"
      },
      "source": [
        "Remove Element from a Set\n"
      ]
    },
    {
      "cell_type": "code",
      "metadata": {
        "id": "KTWud3_S-VzK",
        "colab_type": "code",
        "colab": {
          "base_uri": "https://localhost:8080/",
          "height": 34
        },
        "outputId": "90df6366-cc4e-41a8-a668-0a7f847d9b3f"
      },
      "source": [
        "s={1,2,3,4,4,5,5,6,6,6,7}\n",
        "#s.discard(9)\n",
        "#s.remove(3)\n",
        "s.pop() #pop method removes random element for the set\n",
        "print(s)"
      ],
      "execution_count": 12,
      "outputs": [
        {
          "output_type": "stream",
          "text": [
            "{2, 3, 4, 5, 6, 7}\n"
          ],
          "name": "stdout"
        }
      ]
    },
    {
      "cell_type": "markdown",
      "metadata": {
        "id": "-wueu-RM_uaG",
        "colab_type": "text"
      },
      "source": [
        "Clear Method"
      ]
    },
    {
      "cell_type": "code",
      "metadata": {
        "id": "KXSVckvy_yBO",
        "colab_type": "code",
        "colab": {
          "base_uri": "https://localhost:8080/",
          "height": 34
        },
        "outputId": "71d5b22b-6b4b-43a6-ab4c-4b5fe0534769"
      },
      "source": [
        "s={1,2,3,4,4,5,5,6,6,6,7}\n",
        "s.clear()\n",
        "print(s)\n"
      ],
      "execution_count": 14,
      "outputs": [
        {
          "output_type": "stream",
          "text": [
            "set()\n"
          ],
          "name": "stdout"
        }
      ]
    },
    {
      "cell_type": "markdown",
      "metadata": {
        "id": "gHCwa7G2fCTd",
        "colab_type": "text"
      },
      "source": [
        "# Python Set Operation\n"
      ]
    },
    {
      "cell_type": "code",
      "metadata": {
        "id": "tHPvgMqOfJv4",
        "colab_type": "code",
        "colab": {
          "base_uri": "https://localhost:8080/",
          "height": 136
        },
        "outputId": "55eac5a5-053b-460e-d320-7224e1af50ea"
      },
      "source": [
        "set1 = {1, 2, 3, 4, 5}\n",
        "set2 = {3, 4, 5, 6, 7}\n",
        "print(set1|set2) #union of sets using | operator\n",
        "print(set1&set2)\n",
        "#intersection operation\n",
        "print(set1.intersection(set2))\n",
        "print(set1.union(set2))\n",
        "#difference operation\n",
        "print(set1-set2)\n",
        "print(set1.difference(set2))\n",
        "#symmetric difference\n",
        "print(set1.symmetric_difference(set2))"
      ],
      "execution_count": 22,
      "outputs": [
        {
          "output_type": "stream",
          "text": [
            "{1, 2, 3, 4, 5, 6, 7}\n",
            "{3, 4, 5}\n",
            "{3, 4, 5}\n",
            "{1, 2, 3, 4, 5, 6, 7}\n",
            "{1, 2}\n",
            "{1, 2}\n",
            "{1, 2, 6, 7}\n"
          ],
          "name": "stdout"
        }
      ]
    },
    {
      "cell_type": "code",
      "metadata": {
        "id": "PHKlDQsDgIwO",
        "colab_type": "code",
        "colab": {}
      },
      "source": [
        ""
      ],
      "execution_count": 0,
      "outputs": []
    }
  ]
}