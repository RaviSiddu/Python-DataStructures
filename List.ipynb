{
  "nbformat": 4,
  "nbformat_minor": 0,
  "metadata": {
    "colab": {
      "name": "List.ipynb",
      "version": "0.3.2",
      "provenance": [],
      "collapsed_sections": [],
      "include_colab_link": true
    },
    "kernelspec": {
      "name": "python3",
      "display_name": "Python 3"
    },
    "accelerator": "GPU"
  },
  "cells": [
    {
      "cell_type": "markdown",
      "metadata": {
        "id": "view-in-github",
        "colab_type": "text"
      },
      "source": [
        "<a href=\"https://colab.research.google.com/github/RaviSiddu/Python-DataStructures/blob/master/List.ipynb\" target=\"_parent\"><img src=\"https://colab.research.google.com/assets/colab-badge.svg\" alt=\"Open In Colab\"/></a>"
      ]
    },
    {
      "cell_type": "markdown",
      "metadata": {
        "id": "1o1hilEkFhtj",
        "colab_type": "text"
      },
      "source": [
        "List Creation\n"
      ]
    },
    {
      "cell_type": "code",
      "metadata": {
        "id": "LqifSFstFpln",
        "colab_type": "code",
        "colab": {
          "base_uri": "https://localhost:8080/",
          "height": 34
        },
        "outputId": "ddbca8d5-63ba-4c49-e24f-703f3bdcb771"
      },
      "source": [
        "list=[]\n",
        "list1=[\"ravi\",\"siddu\",\"prasad\"]\n",
        "list2=[2,3,4,5,6,7]\n",
        "list3=[[1,2,3],['ravi','jan','meghana']]\n",
        "print(lis)"
      ],
      "execution_count": 3,
      "outputs": [
        {
          "output_type": "stream",
          "text": [
            "[[1, 2, 3], ['ravi', 'jan', 'meghana']]\n"
          ],
          "name": "stdout"
        }
      ]
    },
    {
      "cell_type": "markdown",
      "metadata": {
        "id": "RspKeqGvGX9g",
        "colab_type": "text"
      },
      "source": [
        "List Length"
      ]
    },
    {
      "cell_type": "code",
      "metadata": {
        "id": "JeEX8mkjGZ_S",
        "colab_type": "code",
        "colab": {
          "base_uri": "https://localhost:8080/",
          "height": 34
        },
        "outputId": "5d7109a4-9534-4f3d-f799-9bf0c6aaa9b5"
      },
      "source": [
        "list=[2,3,4,5,6,7,8,9]\n",
        "#find the length of the list\n",
        "print(len(list))"
      ],
      "execution_count": 5,
      "outputs": [
        {
          "output_type": "stream",
          "text": [
            "8\n"
          ],
          "name": "stdout"
        }
      ]
    },
    {
      "cell_type": "markdown",
      "metadata": {
        "id": "xL6E7yuTGrHo",
        "colab_type": "text"
      },
      "source": [
        "List Append\n"
      ]
    },
    {
      "cell_type": "code",
      "metadata": {
        "id": "ciRavPzCGtBN",
        "colab_type": "code",
        "colab": {
          "base_uri": "https://localhost:8080/",
          "height": 34
        },
        "outputId": "f1d464a6-b966-4fc6-d691-a7f68f070d1b"
      },
      "source": [
        "list=['ravi','balu','srinu']\n",
        "list.append('meghana') #append will add element at the end\n",
        "print(list)"
      ],
      "execution_count": 8,
      "outputs": [
        {
          "output_type": "stream",
          "text": [
            "['ravi', 'balu', 'srinu', 'meghana']\n"
          ],
          "name": "stdout"
        }
      ]
    },
    {
      "cell_type": "markdown",
      "metadata": {
        "id": "Ht4U6lKPHX1R",
        "colab_type": "text"
      },
      "source": [
        "List Insert"
      ]
    },
    {
      "cell_type": "code",
      "metadata": {
        "id": "0Lv1xnvPHg4V",
        "colab_type": "code",
        "colab": {
          "base_uri": "https://localhost:8080/",
          "height": 34
        },
        "outputId": "43cddd9e-8943-4229-b5d0-599dbde10e30"
      },
      "source": [
        "lis=['ravi','rama','ramu','sai']\n",
        "lis.insert(2,'prasad')\n",
        "print(lis)"
      ],
      "execution_count": 9,
      "outputs": [
        {
          "output_type": "stream",
          "text": [
            "['ravi', 'rama', 'prasad', 'ramu', 'sai']\n"
          ],
          "name": "stdout"
        }
      ]
    },
    {
      "cell_type": "markdown",
      "metadata": {
        "id": "HX7l-hFDH7jF",
        "colab_type": "text"
      },
      "source": [
        "List Remove\n"
      ]
    },
    {
      "cell_type": "code",
      "metadata": {
        "id": "yn5RqPtkH9-U",
        "colab_type": "code",
        "colab": {
          "base_uri": "https://localhost:8080/",
          "height": 34
        },
        "outputId": "3a11b480-47fc-492d-adfd-a91c5d659d07"
      },
      "source": [
        "lis=[2,3,4,5,6,7,3,4,5]\n",
        "lis.remove(5) #it will remove the first occurence of the five\n",
        "print(lis)"
      ],
      "execution_count": 10,
      "outputs": [
        {
          "output_type": "stream",
          "text": [
            "[2, 3, 4, 6, 7, 3, 4, 5]\n"
          ],
          "name": "stdout"
        }
      ]
    },
    {
      "cell_type": "markdown",
      "metadata": {
        "id": "hebu7ZFBIN3Y",
        "colab_type": "text"
      },
      "source": [
        "List Append and Extend"
      ]
    },
    {
      "cell_type": "code",
      "metadata": {
        "id": "hsji2bKIIR3F",
        "colab_type": "code",
        "colab": {
          "base_uri": "https://localhost:8080/",
          "height": 34
        },
        "outputId": "c86fa5f8-d4f7-49c0-c874-1721463a91ec"
      },
      "source": [
        "l1=[1,2,3,4,5,6]\n",
        "l2=['ravi','ramu','srinu']\n",
        "l1.append(l2) \n",
        "print(l1)"
      ],
      "execution_count": 12,
      "outputs": [
        {
          "output_type": "stream",
          "text": [
            "[1, 2, 3, 4, 5, 6, ['ravi', 'ramu', 'srinu']]\n"
          ],
          "name": "stdout"
        }
      ]
    },
    {
      "cell_type": "code",
      "metadata": {
        "id": "91ddF0NXIu68",
        "colab_type": "code",
        "colab": {
          "base_uri": "https://localhost:8080/",
          "height": 34
        },
        "outputId": "d35ad52e-a3af-4ba6-a8e5-c3c714ce1c85"
      },
      "source": [
        "l1=[1,2,3,4,5,6]\n",
        "l2=['ravi','ramu','srinu']\n",
        "l1.extend(l2)\n",
        "print(l1)"
      ],
      "execution_count": 14,
      "outputs": [
        {
          "output_type": "stream",
          "text": [
            "[1, 2, 3, 4, 5, 6, 'ravi', 'ramu', 'srinu']\n"
          ],
          "name": "stdout"
        }
      ]
    },
    {
      "cell_type": "markdown",
      "metadata": {
        "id": "r0KxO_6SJOFO",
        "colab_type": "text"
      },
      "source": [
        "List Delete\n"
      ]
    },
    {
      "cell_type": "code",
      "metadata": {
        "id": "nazlNR_zJP5s",
        "colab_type": "code",
        "colab": {
          "base_uri": "https://localhost:8080/",
          "height": 51
        },
        "outputId": "7d202508-bd55-4ec5-e800-07f431ee6329"
      },
      "source": [
        "lis=[2,3,4,5,6,6,7]\n",
        "del lis[2]\n",
        "a=lis.pop(1)\n",
        "print(a)\n",
        "print(lis)"
      ],
      "execution_count": 16,
      "outputs": [
        {
          "output_type": "stream",
          "text": [
            "3\n",
            "[2, 5, 6, 6, 7]\n"
          ],
          "name": "stdout"
        }
      ]
    },
    {
      "cell_type": "code",
      "metadata": {
        "id": "shyTR0oiJ2h1",
        "colab_type": "code",
        "colab": {
          "base_uri": "https://localhost:8080/",
          "height": 34
        },
        "outputId": "5cf38134-6281-461a-d1b7-2bce45a48d8e"
      },
      "source": [
        "l2=['ravi','ramu','srinu']\n",
        "l2.remove('ramu')\n",
        "print(l2)"
      ],
      "execution_count": 17,
      "outputs": [
        {
          "output_type": "stream",
          "text": [
            "['ravi', 'srinu']\n"
          ],
          "name": "stdout"
        }
      ]
    },
    {
      "cell_type": "markdown",
      "metadata": {
        "id": "jhCsxYJNKGFd",
        "colab_type": "text"
      },
      "source": [
        "List Reverse\n"
      ]
    },
    {
      "cell_type": "code",
      "metadata": {
        "id": "ukXvZpZIKH6W",
        "colab_type": "code",
        "colab": {
          "base_uri": "https://localhost:8080/",
          "height": 34
        },
        "outputId": "c3467840-eb1a-4705-e5c4-7a3049304f89"
      },
      "source": [
        "l2=['ravi','ramu','srinu']\n",
        "l2.reverse()\n",
        "print(l2)"
      ],
      "execution_count": 18,
      "outputs": [
        {
          "output_type": "stream",
          "text": [
            "['srinu', 'ramu', 'ravi']\n"
          ],
          "name": "stdout"
        }
      ]
    },
    {
      "cell_type": "markdown",
      "metadata": {
        "id": "A4ESN8gWKQVq",
        "colab_type": "text"
      },
      "source": [
        "List Sorting"
      ]
    },
    {
      "cell_type": "code",
      "metadata": {
        "id": "Cryi1LDjKTD0",
        "colab_type": "code",
        "colab": {
          "base_uri": "https://localhost:8080/",
          "height": 34
        },
        "outputId": "09d5581b-648e-4d2e-862c-a09e70b9c741"
      },
      "source": [
        "l2=['ravi','ramu','srinu']\n",
        "l2.sort()\n",
        "print(l2)"
      ],
      "execution_count": 19,
      "outputs": [
        {
          "output_type": "stream",
          "text": [
            "['ramu', 'ravi', 'srinu']\n"
          ],
          "name": "stdout"
        }
      ]
    },
    {
      "cell_type": "markdown",
      "metadata": {
        "id": "7rTaiC9vMF-A",
        "colab_type": "text"
      },
      "source": [
        "Looping"
      ]
    },
    {
      "cell_type": "code",
      "metadata": {
        "id": "Fx4Y6vSXMIMx",
        "colab_type": "code",
        "colab": {
          "base_uri": "https://localhost:8080/",
          "height": 68
        },
        "outputId": "5513e339-d043-40b8-a1b5-3fc410ad2b94"
      },
      "source": [
        "l2=['ravi','ramu','srinu']\n",
        "for ele in l2:\n",
        "  print(l2)"
      ],
      "execution_count": 21,
      "outputs": [
        {
          "output_type": "stream",
          "text": [
            "['ravi', 'ramu', 'srinu']\n",
            "['ravi', 'ramu', 'srinu']\n",
            "['ravi', 'ramu', 'srinu']\n"
          ],
          "name": "stdout"
        }
      ]
    },
    {
      "cell_type": "markdown",
      "metadata": {
        "id": "tyKEL42sM0l_",
        "colab_type": "text"
      },
      "source": [
        "List Comprahension"
      ]
    },
    {
      "cell_type": "code",
      "metadata": {
        "id": "hi2gTOVoM24l",
        "colab_type": "code",
        "colab": {
          "base_uri": "https://localhost:8080/",
          "height": 34
        },
        "outputId": "5dce9e0b-bcf4-4895-f7e1-3086f5862232"
      },
      "source": [
        "#without list comprahension\n",
        "\"\"\"sq=[]\n",
        "for i in range(10):\n",
        "  sq.append(i**2)\"\"\"\n",
        "#with comprahension\n",
        "sq=[i**2 for i in range(10)]\n",
        "print(sq)"
      ],
      "execution_count": 27,
      "outputs": [
        {
          "output_type": "stream",
          "text": [
            "[0, 1, 4, 9, 16, 25, 36, 49, 64, 81]\n"
          ],
          "name": "stdout"
        }
      ]
    },
    {
      "cell_type": "code",
      "metadata": {
        "id": "GKY2GHzzRTBF",
        "colab_type": "code",
        "colab": {
          "base_uri": "https://localhost:8080/",
          "height": 34
        },
        "outputId": "b678606a-e3c6-4af0-de24-b41c0246fa74"
      },
      "source": [
        "lis=[10,20,30,-10,-20,-30]\n",
        "l1=[i*2 for i in lis]\n",
        "print(l1)"
      ],
      "execution_count": 28,
      "outputs": [
        {
          "output_type": "stream",
          "text": [
            "[20, 40, 60, -20, -40, -60]\n"
          ],
          "name": "stdout"
        }
      ]
    },
    {
      "cell_type": "code",
      "metadata": {
        "id": "4dQcHAJCRqbP",
        "colab_type": "code",
        "colab": {
          "base_uri": "https://localhost:8080/",
          "height": 51
        },
        "outputId": "99192258-2c78-4085-b2cf-4c93da0af64e"
      },
      "source": [
        "lis=[10,20,30,-10,-20,-30]\n",
        "l1=[i*2 for i in lis if i>=0]\n",
        "l2=[(i,i**2)for i in range(10)]\n",
        "print(l2)\n",
        "print(l1)"
      ],
      "execution_count": 30,
      "outputs": [
        {
          "output_type": "stream",
          "text": [
            "[(0, 0), (1, 1), (2, 4), (3, 9), (4, 16), (5, 25), (6, 36), (7, 49), (8, 64), (9, 81)]\n",
            "[20, 40, 60]\n"
          ],
          "name": "stdout"
        }
      ]
    },
    {
      "cell_type": "markdown",
      "metadata": {
        "id": "o8gHIfdUSSfY",
        "colab_type": "text"
      },
      "source": [
        "Transpose of a matrix"
      ]
    },
    {
      "cell_type": "code",
      "metadata": {
        "id": "yqCs2zsrSWKF",
        "colab_type": "code",
        "colab": {
          "base_uri": "https://localhost:8080/",
          "height": 34
        },
        "outputId": "48e47165-9e73-40f0-cb8d-ff00af338391"
      },
      "source": [
        "#without the comprahension\n",
        "matrix=[[1,2,3,4],[5,6,7,8],[9,10,11,12]]\n",
        "transpose=[]\n",
        "for i in range(4):\n",
        "  lis=[]\n",
        "  for row in matrix:\n",
        "    lis.append(row[i])\n",
        "  transpose.append(lis)\n",
        "print(transpose)\n",
        "    "
      ],
      "execution_count": 32,
      "outputs": [
        {
          "output_type": "stream",
          "text": [
            "[[1, 5, 9], [2, 6, 10], [3, 7, 11], [4, 8, 12]]\n"
          ],
          "name": "stdout"
        }
      ]
    },
    {
      "cell_type": "code",
      "metadata": {
        "id": "q75OdYtETgKQ",
        "colab_type": "code",
        "colab": {
          "base_uri": "https://localhost:8080/",
          "height": 34
        },
        "outputId": "4c85b3da-c051-44c8-cd82-481ee999087b"
      },
      "source": [
        "#with comprahension\n",
        "transpose=[[row[i] for row in matrix] for i in range(4)]\n",
        "print(transpose)"
      ],
      "execution_count": 33,
      "outputs": [
        {
          "output_type": "stream",
          "text": [
            "[[1, 5, 9], [2, 6, 10], [3, 7, 11], [4, 8, 12]]\n"
          ],
          "name": "stdout"
        }
      ]
    }
  ]
}