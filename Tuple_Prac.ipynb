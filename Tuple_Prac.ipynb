{
  "nbformat": 4,
  "nbformat_minor": 0,
  "metadata": {
    "colab": {
      "name": "Tuple Prac.ipynb",
      "version": "0.3.2",
      "provenance": [],
      "collapsed_sections": [],
      "include_colab_link": true
    },
    "kernelspec": {
      "name": "python3",
      "display_name": "Python 3"
    }
  },
  "cells": [
    {
      "cell_type": "markdown",
      "metadata": {
        "id": "view-in-github",
        "colab_type": "text"
      },
      "source": [
        "<a href=\"https://colab.research.google.com/github/RaviSiddu/Python-DataStructures/blob/master/Tuple_Prac.ipynb\" target=\"_parent\"><img src=\"https://colab.research.google.com/assets/colab-badge.svg\" alt=\"Open In Colab\"/></a>"
      ]
    },
    {
      "cell_type": "markdown",
      "metadata": {
        "id": "vg_2lAHkrUej",
        "colab_type": "text"
      },
      "source": [
        "# Tuple\n"
      ]
    },
    {
      "cell_type": "code",
      "metadata": {
        "id": "b7S68WrNri1a",
        "colab_type": "code",
        "colab": {
          "base_uri": "https://localhost:8080/",
          "height": 34
        },
        "outputId": "c027125a-def1-4085-8689-e3df91a20ac9"
      },
      "source": [
        "#Tuple creation\n",
        "t=('ravi','ramu','prasad')\n",
        "print(t)"
      ],
      "execution_count": 3,
      "outputs": [
        {
          "output_type": "stream",
          "text": [
            "('ravi', 'ramu', 'prasad')\n"
          ],
          "name": "stdout"
        }
      ]
    },
    {
      "cell_type": "code",
      "metadata": {
        "id": "r2_uAdHdyvkt",
        "colab_type": "code",
        "colab": {
          "base_uri": "https://localhost:8080/",
          "height": 34
        },
        "outputId": "46f51e81-482d-401a-c62d-e65c42952e3e"
      },
      "source": [
        "#nested tuple\n",
        "t=((1,2,3,4),'ravi','prasad')\n",
        "print(t)"
      ],
      "execution_count": 5,
      "outputs": [
        {
          "output_type": "stream",
          "text": [
            "((1, 2, 3, 4), 'ravi', 'prasad')\n"
          ],
          "name": "stdout"
        }
      ]
    },
    {
      "cell_type": "code",
      "metadata": {
        "id": "soc0zAS_1HrS",
        "colab_type": "code",
        "colab": {
          "base_uri": "https://localhost:8080/",
          "height": 34
        },
        "outputId": "08189b3d-7f82-47bf-ed56-58c211f5aa80"
      },
      "source": [
        "t=('ravi','prasad')\n",
        "print(type(t))"
      ],
      "execution_count": 9,
      "outputs": [
        {
          "output_type": "stream",
          "text": [
            "<class 'tuple'>\n"
          ],
          "name": "stdout"
        }
      ]
    },
    {
      "cell_type": "markdown",
      "metadata": {
        "id": "rFerQ_sB1edQ",
        "colab_type": "text"
      },
      "source": [
        "Accessing the Elements in Tuple"
      ]
    },
    {
      "cell_type": "code",
      "metadata": {
        "id": "F3n0L0ol1kad",
        "colab_type": "code",
        "colab": {
          "base_uri": "https://localhost:8080/",
          "height": 85
        },
        "outputId": "7eebe39d-9762-449a-c696-54babf16aa4a"
      },
      "source": [
        "t=(1,2,3,4,5,6,7,8)\n",
        "print(t[1])\n",
        "print(t[-1])\n",
        "print(t[2:4])\n",
        "print(t[:4])\n"
      ],
      "execution_count": 13,
      "outputs": [
        {
          "output_type": "stream",
          "text": [
            "2\n",
            "8\n",
            "(3, 4)\n",
            "(1, 2, 3, 4)\n"
          ],
          "name": "stdout"
        }
      ]
    },
    {
      "cell_type": "code",
      "metadata": {
        "id": "zI23Zx6S2GFi",
        "colab_type": "code",
        "colab": {
          "base_uri": "https://localhost:8080/",
          "height": 51
        },
        "outputId": "c4ed7127-2563-4c6c-94bd-9a59b63d2f3f"
      },
      "source": [
        "#nested tuples\n",
        "name=('ravi',('prasad','ramu','raju'))\n",
        "print(name[1])\n",
        "print(name[1][1])\n"
      ],
      "execution_count": 15,
      "outputs": [
        {
          "output_type": "stream",
          "text": [
            "('prasad', 'ramu', 'raju')\n",
            "ramu\n"
          ],
          "name": "stdout"
        }
      ]
    },
    {
      "cell_type": "markdown",
      "metadata": {
        "id": "udpHkdF22guL",
        "colab_type": "text"
      },
      "source": [
        "#Changing the Tuple \n",
        " ->unlike the list,tuples are immutable .\n",
        " \n",
        " ->This means that elements of a tuple cannot be changed once it has been assigned. But, if the element is itself a mutable datatype like list, its nested items can be changed."
      ]
    },
    {
      "cell_type": "code",
      "metadata": {
        "id": "fWT1XxPL2-wk",
        "colab_type": "code",
        "colab": {
          "base_uri": "https://localhost:8080/",
          "height": 68
        },
        "outputId": "e750c1b7-84f7-443f-c44c-9838afa4024c"
      },
      "source": [
        "t=(1,2,3,4,5,['ravi','ramu','rama'])\n",
        "t2=(3,4,5,6,7)\n",
        "#print(t)\n",
        "t[5][2]='megha'\n",
        "print(t+t2)\n",
        "print(t)\n",
        "print(('megha')*4)\n",
        "\n"
      ],
      "execution_count": 23,
      "outputs": [
        {
          "output_type": "stream",
          "text": [
            "(1, 2, 3, 4, 5, ['ravi', 'ramu', 'megha'], 3, 4, 5, 6, 7)\n",
            "(1, 2, 3, 4, 5, ['ravi', 'ramu', 'megha'])\n",
            "meghameghameghamegha\n"
          ],
          "name": "stdout"
        }
      ]
    },
    {
      "cell_type": "code",
      "metadata": {
        "id": "1axMPETU4nid",
        "colab_type": "code",
        "colab": {
          "base_uri": "https://localhost:8080/",
          "height": 51
        },
        "outputId": "23ae79b5-d827-4da0-d245-f1242a8ccc6e"
      },
      "source": [
        "#tuple deletion\n",
        "t=(2,3,4,5,6,7)\n",
        "del t\n",
        "#tuple Count\n",
        "t=(2,3,4,5,6,7)\n",
        "print(t.count(3)) #get the frequency of particular element appears in a tuple\n",
        "#tuple indexing\n",
        "print(t.index(2))  #return index of the first element is equal to 2"
      ],
      "execution_count": 28,
      "outputs": [
        {
          "output_type": "stream",
          "text": [
            "1\n",
            "0\n"
          ],
          "name": "stdout"
        }
      ]
    },
    {
      "cell_type": "markdown",
      "metadata": {
        "id": "Rj-eO_o85ftF",
        "colab_type": "text"
      },
      "source": [
        "Membership\n"
      ]
    },
    {
      "cell_type": "code",
      "metadata": {
        "id": "yjEeO77b5jH2",
        "colab_type": "code",
        "colab": {
          "base_uri": "https://localhost:8080/",
          "height": 34
        },
        "outputId": "24fc78bb-7b60-475b-a7a2-b2fb658fab2c"
      },
      "source": [
        "t=(2,3,4,5,6,7)\n",
        "print(2 in t)"
      ],
      "execution_count": 29,
      "outputs": [
        {
          "output_type": "stream",
          "text": [
            "True\n"
          ],
          "name": "stdout"
        }
      ]
    },
    {
      "cell_type": "markdown",
      "metadata": {
        "id": "xyVvBGu85qj9",
        "colab_type": "text"
      },
      "source": [
        "Built in Functions\n"
      ]
    },
    {
      "cell_type": "markdown",
      "metadata": {
        "id": "CLxnZWLB5wZZ",
        "colab_type": "text"
      },
      "source": [
        "Length\n"
      ]
    },
    {
      "cell_type": "code",
      "metadata": {
        "id": "WETeS8_r5xzJ",
        "colab_type": "code",
        "colab": {
          "base_uri": "https://localhost:8080/",
          "height": 34
        },
        "outputId": "44b53aa7-858e-4178-8e51-1201c9a4fc6d"
      },
      "source": [
        "t=(2,3,4,5,6,7)\n",
        "print(len(t))\n"
      ],
      "execution_count": 30,
      "outputs": [
        {
          "output_type": "stream",
          "text": [
            "6\n"
          ],
          "name": "stdout"
        }
      ]
    },
    {
      "cell_type": "markdown",
      "metadata": {
        "id": "T7BV0FuB5-LQ",
        "colab_type": "text"
      },
      "source": [
        "Sort"
      ]
    },
    {
      "cell_type": "code",
      "metadata": {
        "id": "RpAW349y5_p0",
        "colab_type": "code",
        "colab": {
          "base_uri": "https://localhost:8080/",
          "height": 68
        },
        "outputId": "2d0ab8cb-504c-4201-d147-ca624fa3fc13"
      },
      "source": [
        "t=(3,2,6,4,8,7)\n",
        "t2=sorted(t)\n",
        "print(t2)\n",
        "print(max(t2))\n",
        "print(sum(t2))\n"
      ],
      "execution_count": 37,
      "outputs": [
        {
          "output_type": "stream",
          "text": [
            "[2, 3, 4, 6, 7, 8]\n",
            "8\n",
            "30\n"
          ],
          "name": "stdout"
        }
      ]
    }
  ]
}