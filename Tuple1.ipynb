{
  "nbformat": 4,
  "nbformat_minor": 0,
  "metadata": {
    "colab": {
      "name": "Copy of 2.2#2.3.ipynb",
      "version": "0.3.2",
      "provenance": [],
      "include_colab_link": true
    },
    "language_info": {
      "codemirror_mode": {
        "name": "ipython",
        "version": 3
      },
      "file_extension": ".py",
      "mimetype": "text/x-python",
      "name": "python",
      "nbconvert_exporter": "python",
      "pygments_lexer": "ipython3",
      "version": "3.6.1"
    },
    "kernelspec": {
      "display_name": "Python 3",
      "language": "python",
      "name": "python3"
    }
  },
  "cells": [
    {
      "cell_type": "markdown",
      "metadata": {
        "id": "view-in-github",
        "colab_type": "text"
      },
      "source": [
        "<a href=\"https://colab.research.google.com/github/RaviSiddu/Python-DataStructures/blob/master/Tuple1.ipynb\" target=\"_parent\"><img src=\"https://colab.research.google.com/assets/colab-badge.svg\" alt=\"Open In Colab\"/></a>"
      ]
    },
    {
      "cell_type": "markdown",
      "metadata": {
        "id": "cXlNfWC9q_S8",
        "colab_type": "text"
      },
      "source": [
        "# Tuples"
      ]
    },
    {
      "cell_type": "markdown",
      "metadata": {
        "id": "i99Lpftbq_S9",
        "colab_type": "text"
      },
      "source": [
        "-> A tuple is similar to list\n",
        "\n",
        "-> The diffence between the two is that we can't change the elements of tuple once it is assigned whereas in the list, elements can be changed"
      ]
    },
    {
      "cell_type": "markdown",
      "metadata": {
        "id": "ZqfvQlElq_S_",
        "colab_type": "text"
      },
      "source": [
        "# Tuple creation"
      ]
    },
    {
      "cell_type": "code",
      "metadata": {
        "id": "dViBUndYq_TB",
        "colab_type": "code",
        "outputId": "61e9be45-6bb5-4844-8034-e65b5b2781c9",
        "colab": {}
      },
      "source": [
        "#empty tuple\n",
        "t = ()\n",
        "\n",
        "#tuple having integers\n",
        "t = (1, 2, 3)\n",
        "print(t)\n",
        "\n",
        "#tuple with mixed datatypes\n",
        "t = (1, 'raju', 28, 'abc')\n",
        "print(t)\n",
        "\n",
        "#nested tuple\n",
        "t = (1, (2, 3, 4), [1, 'raju', 28, 'abc'])\n",
        "print(t)"
      ],
      "execution_count": 0,
      "outputs": [
        {
          "output_type": "stream",
          "text": [
            "(1, 2, 3)\n",
            "(1, 'raju', 28, 'abc')\n",
            "(1, (2, 3, 4), [1, 'raju', 28, 'abc'])\n"
          ],
          "name": "stdout"
        }
      ]
    },
    {
      "cell_type": "code",
      "metadata": {
        "id": "Qz659OiYq_TI",
        "colab_type": "code",
        "outputId": "3b42168f-db4d-4b00-e4ab-ae33dee611fa",
        "colab": {}
      },
      "source": [
        "#only parenthesis is not enough\n",
        "t = ('satish')\n",
        "type(t)"
      ],
      "execution_count": 0,
      "outputs": [
        {
          "output_type": "execute_result",
          "data": {
            "text/plain": [
              "str"
            ]
          },
          "metadata": {
            "tags": []
          },
          "execution_count": 3
        }
      ]
    },
    {
      "cell_type": "code",
      "metadata": {
        "id": "XKU4cd6Aq_TQ",
        "colab_type": "code",
        "outputId": "c22282af-51aa-493c-be38-74b373875c5f",
        "colab": {}
      },
      "source": [
        "#need a comma at the end\n",
        "t = ('satish',)\n",
        "type(t)"
      ],
      "execution_count": 0,
      "outputs": [
        {
          "output_type": "execute_result",
          "data": {
            "text/plain": [
              "tuple"
            ]
          },
          "metadata": {
            "tags": []
          },
          "execution_count": 4
        }
      ]
    },
    {
      "cell_type": "code",
      "metadata": {
        "id": "QEOxYMe0q_TZ",
        "colab_type": "code",
        "outputId": "35c3421c-427e-42e0-d4d2-1b6231114345",
        "colab": {}
      },
      "source": [
        "#parenthesis is optional\n",
        "t = \"satish\", \n",
        "print(type(t))\n",
        "\n",
        "print(t)"
      ],
      "execution_count": 0,
      "outputs": [
        {
          "output_type": "stream",
          "text": [
            "<class 'tuple'>\n",
            "('satish',)\n"
          ],
          "name": "stdout"
        }
      ]
    },
    {
      "cell_type": "markdown",
      "metadata": {
        "id": "Xq8PAd52q_Ti",
        "colab_type": "text"
      },
      "source": [
        "# Accessing Elements in Tuple"
      ]
    },
    {
      "cell_type": "code",
      "metadata": {
        "id": "oite-UlQq_Tk",
        "colab_type": "code",
        "outputId": "01c4d931-1add-4b6e-a630-77d2d5150c1d",
        "colab": {}
      },
      "source": [
        "t = ('satish', 'murali', 'naveen', 'srinu', 'brahma')\n",
        "\n",
        "print(t[1])"
      ],
      "execution_count": 0,
      "outputs": [
        {
          "output_type": "stream",
          "text": [
            "murali\n"
          ],
          "name": "stdout"
        }
      ]
    },
    {
      "cell_type": "code",
      "metadata": {
        "id": "xbOS0iMfq_Tu",
        "colab_type": "code",
        "outputId": "4f47b840-747c-447e-f908-721633d13ed6",
        "colab": {}
      },
      "source": [
        "#negative index\n",
        "print(t[-1]) #print last element in a tuple"
      ],
      "execution_count": 0,
      "outputs": [
        {
          "output_type": "stream",
          "text": [
            "brahma\n"
          ],
          "name": "stdout"
        }
      ]
    },
    {
      "cell_type": "code",
      "metadata": {
        "id": "nHFh2nMrq_T3",
        "colab_type": "code",
        "outputId": "8c28c3dc-eaf9-4437-f644-59d0c00afbe7",
        "colab": {}
      },
      "source": [
        "#nested tuple\n",
        "t = ('ABC', ('satish', 'naveen', 'srinu'))\n",
        "\n",
        "print(t[1])"
      ],
      "execution_count": 0,
      "outputs": [
        {
          "output_type": "stream",
          "text": [
            "('satish', 'naveen', 'srinu')\n"
          ],
          "name": "stdout"
        }
      ]
    },
    {
      "cell_type": "code",
      "metadata": {
        "id": "8zPH8_ODq_UG",
        "colab_type": "code",
        "outputId": "5f4f7456-1b5d-477c-8e1b-e7959e7c92cb",
        "colab": {}
      },
      "source": [
        "print(t[1][2])"
      ],
      "execution_count": 0,
      "outputs": [
        {
          "output_type": "stream",
          "text": [
            "srinu\n"
          ],
          "name": "stdout"
        }
      ]
    },
    {
      "cell_type": "code",
      "metadata": {
        "id": "cRIJSSZ1q_UP",
        "colab_type": "code",
        "outputId": "ab5f98b8-893d-4405-92fc-3bbad205bbdf",
        "colab": {}
      },
      "source": [
        "#Slicing\n",
        "t = (1, 2, 3, 4, 5, 6)\n",
        "\n",
        "print(t[1:4])\n",
        "\n",
        "#print elements from starting to 2nd last elements\n",
        "print(t[:-2])\n",
        "\n",
        "#print elements from starting to end\n",
        "print(t[:])"
      ],
      "execution_count": 0,
      "outputs": [
        {
          "output_type": "stream",
          "text": [
            "(2, 3, 4)\n",
            "(1, 2, 3, 4)\n",
            "(1, 2, 3, 4, 5, 6)\n"
          ],
          "name": "stdout"
        }
      ]
    },
    {
      "cell_type": "markdown",
      "metadata": {
        "id": "cbO1N9b5q_Uh",
        "colab_type": "text"
      },
      "source": [
        "# Changing a Tuple"
      ]
    },
    {
      "cell_type": "markdown",
      "metadata": {
        "id": "WdHHkflmq_Uk",
        "colab_type": "text"
      },
      "source": [
        "#unlike lists, tuples are immutable\n",
        "#This means that elements of a tuple cannot be changed once it has been assigned. But, if the element is itself a mutable datatype like list, its nested items can be changed."
      ]
    },
    {
      "cell_type": "code",
      "metadata": {
        "id": "xLQwy2ZNq_Um",
        "colab_type": "code",
        "outputId": "fefa2e2d-04f7-4130-8bfc-ccbe037f66e0",
        "colab": {}
      },
      "source": [
        "#creating tuple\n",
        "t = (1, 2, 3, 4, [5, 6, 7])\n",
        "\n",
        "t[2] = 'x' #will get TypeError"
      ],
      "execution_count": 0,
      "outputs": [
        {
          "output_type": "error",
          "ename": "TypeError",
          "evalue": "'tuple' object does not support item assignment",
          "traceback": [
            "\u001b[0;31m---------------------------------------------------------------------------\u001b[0m",
            "\u001b[0;31mTypeError\u001b[0m                                 Traceback (most recent call last)",
            "\u001b[0;32m<ipython-input-3-9f4cbf6ee0de>\u001b[0m in \u001b[0;36m<module>\u001b[0;34m()\u001b[0m\n\u001b[1;32m      2\u001b[0m \u001b[0mt\u001b[0m \u001b[0;34m=\u001b[0m \u001b[0;34m(\u001b[0m\u001b[0;36m1\u001b[0m\u001b[0;34m,\u001b[0m \u001b[0;36m2\u001b[0m\u001b[0;34m,\u001b[0m \u001b[0;36m3\u001b[0m\u001b[0;34m,\u001b[0m \u001b[0;36m4\u001b[0m\u001b[0;34m,\u001b[0m \u001b[0;34m[\u001b[0m\u001b[0;36m5\u001b[0m\u001b[0;34m,\u001b[0m \u001b[0;36m6\u001b[0m\u001b[0;34m,\u001b[0m \u001b[0;36m7\u001b[0m\u001b[0;34m]\u001b[0m\u001b[0;34m)\u001b[0m\u001b[0;34m\u001b[0m\u001b[0m\n\u001b[1;32m      3\u001b[0m \u001b[0;34m\u001b[0m\u001b[0m\n\u001b[0;32m----> 4\u001b[0;31m \u001b[0mt\u001b[0m\u001b[0;34m[\u001b[0m\u001b[0;36m2\u001b[0m\u001b[0;34m]\u001b[0m \u001b[0;34m=\u001b[0m \u001b[0;34m'x'\u001b[0m \u001b[0;31m#will get TypeError\u001b[0m\u001b[0;34m\u001b[0m\u001b[0m\n\u001b[0m",
            "\u001b[0;31mTypeError\u001b[0m: 'tuple' object does not support item assignment"
          ]
        }
      ]
    },
    {
      "cell_type": "code",
      "metadata": {
        "id": "UyS1JmNbq_Uw",
        "colab_type": "code",
        "outputId": "81c797f0-7d5d-4be6-9c66-a5a04c10152f",
        "colab": {}
      },
      "source": [
        "t[4][1] = 'satish'\n",
        "print(t)"
      ],
      "execution_count": 0,
      "outputs": [
        {
          "output_type": "stream",
          "text": [
            "(1, 2, 3, 4, [5, 'satish', 7])\n"
          ],
          "name": "stdout"
        }
      ]
    },
    {
      "cell_type": "code",
      "metadata": {
        "id": "DpN7odJtq_U6",
        "colab_type": "code",
        "outputId": "0312eb8e-21ae-4d46-8c81-23f71642254f",
        "colab": {}
      },
      "source": [
        "#concatinating tuples\n",
        "\n",
        "t = (1, 2, 3) + (4, 5, 6)\n",
        "print(t)"
      ],
      "execution_count": 0,
      "outputs": [
        {
          "output_type": "stream",
          "text": [
            "(1, 2, 3, 4, 5, 6)\n"
          ],
          "name": "stdout"
        }
      ]
    },
    {
      "cell_type": "code",
      "metadata": {
        "id": "etfUCNwbq_VF",
        "colab_type": "code",
        "outputId": "48701f79-fb57-43ec-e1da-8c436988d846",
        "colab": {}
      },
      "source": [
        "#repeat the elements in a tuple for a given number of times using the * operator.\n",
        "t = (('satish', ) * 4)\n",
        "print(t)"
      ],
      "execution_count": 0,
      "outputs": [
        {
          "output_type": "stream",
          "text": [
            "('satish', 'satish', 'satish', 'satish')\n"
          ],
          "name": "stdout"
        }
      ]
    },
    {
      "cell_type": "markdown",
      "metadata": {
        "id": "0QQ4QnWKq_VO",
        "colab_type": "text"
      },
      "source": [
        "# Tuple Deletion"
      ]
    },
    {
      "cell_type": "code",
      "metadata": {
        "id": "psfymC7Iq_VQ",
        "colab_type": "code",
        "colab": {}
      },
      "source": [
        "#we cannot change the elements in a tuple. \n",
        "# That also means we cannot delete or remove items from a tuple.\n",
        "\n",
        "#delete entire tuple using del keyword\n",
        "t = (1, 2, 3, 4, 5, 6)\n",
        "\n",
        "#delete entire tuple\n",
        "del t\n",
        "\n"
      ],
      "execution_count": 0,
      "outputs": []
    },
    {
      "cell_type": "markdown",
      "metadata": {
        "id": "CHaNw9kzq_VV",
        "colab_type": "text"
      },
      "source": [
        "# Tuple Count"
      ]
    },
    {
      "cell_type": "code",
      "metadata": {
        "id": "dCnRLgPyq_VW",
        "colab_type": "code",
        "outputId": "b2a18858-a528-446e-ea3a-422166017dbe",
        "colab": {}
      },
      "source": [
        "t = (1, 2, 3, 1, 3, 3, 4, 1)\n",
        "\n",
        "#get the frequency of particular element appears in a tuple\n",
        "t.count(1)"
      ],
      "execution_count": 0,
      "outputs": [
        {
          "output_type": "execute_result",
          "data": {
            "text/plain": [
              "3"
            ]
          },
          "metadata": {
            "tags": []
          },
          "execution_count": 19
        }
      ]
    },
    {
      "cell_type": "markdown",
      "metadata": {
        "id": "7PP8Oxlkq_Vi",
        "colab_type": "text"
      },
      "source": [
        "# Tuple Index"
      ]
    },
    {
      "cell_type": "code",
      "metadata": {
        "id": "Bgyp3-28q_Vk",
        "colab_type": "code",
        "outputId": "699d1fb3-0d67-4ba0-d00e-91faa1c8b1f9",
        "colab": {}
      },
      "source": [
        "t = (1, 2, 3, 1, 3, 3, 4, 1)\n",
        "\n",
        "print(t.index(3)) #return index of the first element is equal to 3\n",
        "\n",
        "#print index of the 1\n",
        "\n"
      ],
      "execution_count": 0,
      "outputs": [
        {
          "output_type": "stream",
          "text": [
            "2\n"
          ],
          "name": "stdout"
        }
      ]
    },
    {
      "cell_type": "markdown",
      "metadata": {
        "id": "DZnTsWmEq_Vq",
        "colab_type": "text"
      },
      "source": [
        "# Tuple Memebership "
      ]
    },
    {
      "cell_type": "code",
      "metadata": {
        "id": "_qvuDhoNq_Vq",
        "colab_type": "code",
        "outputId": "02d02035-c5e4-482a-e6ec-aa510249df90",
        "colab": {}
      },
      "source": [
        "#test if an item exists in a tuple or not, using the keyword in.\n",
        "t = (1, 2, 3, 4, 5, 6)\n",
        "\n",
        "print(1 in t)"
      ],
      "execution_count": 0,
      "outputs": [
        {
          "output_type": "stream",
          "text": [
            "True\n"
          ],
          "name": "stdout"
        }
      ]
    },
    {
      "cell_type": "code",
      "metadata": {
        "id": "TZbqwg0Bq_Vx",
        "colab_type": "code",
        "outputId": "f7f59c4d-40a6-4495-f606-507664aa9d31",
        "colab": {}
      },
      "source": [
        "print(7 in t)"
      ],
      "execution_count": 0,
      "outputs": [
        {
          "output_type": "stream",
          "text": [
            "False\n"
          ],
          "name": "stdout"
        }
      ]
    },
    {
      "cell_type": "markdown",
      "metadata": {
        "id": "t7oHYi_bq_V3",
        "colab_type": "text"
      },
      "source": [
        "# Built in Functions"
      ]
    },
    {
      "cell_type": "markdown",
      "metadata": {
        "id": "u4fh4eB9q_V5",
        "colab_type": "text"
      },
      "source": [
        "# Tuple Length"
      ]
    },
    {
      "cell_type": "code",
      "metadata": {
        "id": "tZV_cbi_q_V6",
        "colab_type": "code",
        "outputId": "c91ef6aa-0d0b-4cb8-c2b4-6288a27e546a",
        "colab": {}
      },
      "source": [
        "t = (1, 2, 3, 4, 5, 6)\n",
        "print(len(t))"
      ],
      "execution_count": 0,
      "outputs": [
        {
          "output_type": "stream",
          "text": [
            "6\n"
          ],
          "name": "stdout"
        }
      ]
    },
    {
      "cell_type": "markdown",
      "metadata": {
        "id": "beaF9_kKq_V_",
        "colab_type": "text"
      },
      "source": [
        "# Tuple Sort"
      ]
    },
    {
      "cell_type": "code",
      "metadata": {
        "id": "h7fI2PwHq_WA",
        "colab_type": "code",
        "outputId": "a4d3f8c5-34c3-4813-bd8c-ea79fd21e5dc",
        "colab": {}
      },
      "source": [
        "t = (4, 5, 1, 2, 3)\n",
        "\n",
        "new_t = sorted(t)\n",
        "print(new_t) #Take elements in the tuple and return a new sorted list \n",
        "             #(does not sort the tuple itself)."
      ],
      "execution_count": 0,
      "outputs": [
        {
          "output_type": "stream",
          "text": [
            "[1, 2, 3, 4, 5]\n"
          ],
          "name": "stdout"
        }
      ]
    },
    {
      "cell_type": "code",
      "metadata": {
        "id": "qjtVklG7q_WH",
        "colab_type": "code",
        "outputId": "d341042d-6848-444e-9b24-515fdac087c8",
        "colab": {}
      },
      "source": [
        "#get the largest element in a tuple\n",
        "t = (2, 5, 1, 6, 9)\n",
        "\n",
        "print(max(t))"
      ],
      "execution_count": 0,
      "outputs": [
        {
          "output_type": "stream",
          "text": [
            "9\n"
          ],
          "name": "stdout"
        }
      ]
    },
    {
      "cell_type": "code",
      "metadata": {
        "id": "14N_R7KXq_WM",
        "colab_type": "code",
        "outputId": "67cf7097-d9d0-4abf-b510-e48d7a266c94",
        "colab": {}
      },
      "source": [
        "#get the smallest element in a tuple\n",
        "print(min(t))"
      ],
      "execution_count": 0,
      "outputs": [
        {
          "output_type": "stream",
          "text": [
            "1\n"
          ],
          "name": "stdout"
        }
      ]
    },
    {
      "cell_type": "code",
      "metadata": {
        "id": "zSJLNKu1q_WY",
        "colab_type": "code",
        "outputId": "2c837acf-627a-4a17-df5e-a21c82a7af79",
        "colab": {}
      },
      "source": [
        "#get sum of elments in the tuple\n",
        "print(sum(t))"
      ],
      "execution_count": 0,
      "outputs": [
        {
          "output_type": "stream",
          "text": [
            "23\n"
          ],
          "name": "stdout"
        }
      ]
    }
  ]
}